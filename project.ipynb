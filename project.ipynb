{
 "cells": [
  {
   "cell_type": "code",
   "execution_count": 1,
   "metadata": {},
   "outputs": [],
   "source": [
    "import cv2\n",
    "from playsound import playsound"
   ]
  },
  {
   "cell_type": "code",
   "execution_count": 2,
   "metadata": {},
   "outputs": [],
   "source": [
    "#creating  objs for haar cascade classifier for full body and car detection\n",
    "\n",
    "full_body_cas = cv2.CascadeClassifier(r'D:\\LUMNR_PYTHON\\Computer_Vision\\vehicle_fullbody\\haarcascade_fullbody.xml')\n",
    "\n",
    "\n",
    "car_cas = cv2.CascadeClassifier(r'D:\\LUMNR_PYTHON\\Computer_Vision\\vehicle_fullbody\\cars.xml')\n"
   ]
  },
  {
   "cell_type": "code",
   "execution_count": 3,
   "metadata": {},
   "outputs": [],
   "source": [
    "# To Play the alert sound\n",
    "\n",
    "def play_alert_sound():\n",
    "    alert_sound_path = r\"D:\\LUMNR_PYTHON\\Computer_Vision\\vehicle_fullbody\\mixkit-police-whistle-614.wav\"  # Path to your alert sound file\n",
    "    playsound(alert_sound_path)"
   ]
  },
  {
   "cell_type": "code",
   "execution_count": 4,
   "metadata": {},
   "outputs": [],
   "source": [
    "video = cv2.VideoCapture(r'D:\\LUMNR_PYTHON\\Computer_Vision\\vehicle_fullbody\\zebra-cross-copy_br2kuPjw.mp4')\n",
    "\n",
    "while True:\n",
    "    suc,frame = video.read()\n",
    "\n",
    "    if not suc:\n",
    "        break\n",
    "    \n",
    "    grey = cv2.cvtColor(frame,cv2.COLOR_BGR2GRAY)\n",
    "    \n",
    "\n",
    "    fullbody = full_body_cas.detectMultiScale(grey,scaleFactor = 1.1,minNeighbors = 3)\n",
    "    car = car_cas.detectMultiScale(grey,scaleFactor = 1.1,minNeighbors = 1,minSize = (50,50))\n",
    "\n",
    "    cv2.putText(frame,'TRAFFIC POLICE ALERTS',(50,50),fontFace = cv2.FONT_HERSHEY_DUPLEX,fontScale = 1,color = (255,255,255),thickness = 4)\n",
    "\n",
    "    cv2.line(frame,(350,480),(500,440),color = (127,127,127),thickness = 1,lineType = cv2.LINE_AA)\n",
    "    cv2.line(frame,(515,450),(440,320),color = (127,127,127),thickness = 1,lineType = cv2.LINE_AA)\n",
    "    \n",
    "    \n",
    "    \n",
    "    for (x,y,w,h) in fullbody:\n",
    "        cv2.rectangle(frame,(x,y),(x+w,y+h),(129,129,129),1) \n",
    "        \n",
    "        if 348 < x <= 400 and 380 < y <= 535:\n",
    "            cv2.putText(frame,'Pedestrian approaching!!!',(50,100),fontFace = cv2.FONT_HERSHEY_SIMPLEX,fontScale = 1,color = (0,69,255),thickness = 3)\n",
    "            \n",
    "            \n",
    "    for (x,y,w,h) in car:\n",
    "        cv2.rectangle(frame,(x,y),(x+w,y+h),(129,129,129),1)\n",
    "       \n",
    "        if 500 < x <= 640 and 0 < y <= 400:\n",
    "            cv2.putText(frame,'Slow the Vehicle...',(50,150),fontFace = cv2.FONT_HERSHEY_SIMPLEX,fontScale = 1,color = (0,255,255),thickness = 3)    \n",
    "\n",
    "        if 0< x <= 250 and 80 < y <= 300:\n",
    "            play_alert_sound()\n",
    "            \n",
    "            cv2.putText(frame,'Rules Violated!!!',(50,160),fontFace = cv2.FONT_HERSHEY_COMPLEX,fontScale = 1,color = (0,0,255),thickness = 4)\n",
    "            \n",
    "            #play_alert_sound()\n",
    "    \n",
    "\n",
    "    cv2.imshow('Video',frame)\n",
    "    if cv2.waitKey(1) & 0XFF == ord('q'):\n",
    "        break\n",
    "\n",
    "video.release()\n",
    "cv2.destroyAllWindows()"
   ]
  }
 ],
 "metadata": {
  "kernelspec": {
   "display_name": "Python 3",
   "language": "python",
   "name": "python3"
  },
  "language_info": {
   "codemirror_mode": {
    "name": "ipython",
    "version": 3
   },
   "file_extension": ".py",
   "mimetype": "text/x-python",
   "name": "python",
   "nbconvert_exporter": "python",
   "pygments_lexer": "ipython3",
   "version": "3.10.9"
  },
  "orig_nbformat": 4
 },
 "nbformat": 4,
 "nbformat_minor": 2
}
